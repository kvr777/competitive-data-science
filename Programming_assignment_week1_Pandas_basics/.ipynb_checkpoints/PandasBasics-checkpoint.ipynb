{
 "cells": [
  {
   "cell_type": "markdown",
   "metadata": {},
   "source": [
    "Version 1.0.1"
   ]
  },
  {
   "cell_type": "markdown",
   "metadata": {},
   "source": [
    "# Pandas basics "
   ]
  },
  {
   "cell_type": "markdown",
   "metadata": {},
   "source": [
    "Hi! In this programming assignment you need to refresh your `pandas` knowledge. You will need to do several [`groupby`](https://pandas.pydata.org/pandas-docs/stable/generated/pandas.DataFrame.groupby.html)s and [`join`]()`s to solve the task. "
   ]
  },
  {
   "cell_type": "code",
   "execution_count": 1,
   "metadata": {
    "collapsed": true
   },
   "outputs": [],
   "source": [
    "import pandas as pd\n",
    "import numpy as np\n",
    "import os\n",
    "import matplotlib.pyplot as plt\n",
    "%matplotlib inline \n",
    "\n",
    "from grader import Grader"
   ]
  },
  {
   "cell_type": "code",
   "execution_count": 2,
   "metadata": {
    "collapsed": false
   },
   "outputs": [],
   "source": [
    "DATA_FOLDER = './readonly/final_project_data/'\n",
    "\n",
    "transactions    = pd.read_csv(os.path.join(DATA_FOLDER, 'sales_train.csv.gz'))\n",
    "items           = pd.read_csv(os.path.join(DATA_FOLDER, 'items.csv'))\n",
    "item_categories = pd.read_csv(os.path.join(DATA_FOLDER, 'item_categories.csv'))\n",
    "shops           = pd.read_csv(os.path.join(DATA_FOLDER, 'shops.csv'))"
   ]
  },
  {
   "cell_type": "markdown",
   "metadata": {},
   "source": [
    "The dataset we are going to use is taken from the competition, that serves as the final project for this course. You can find complete data description at the [competition web page](https://www.kaggle.com/c/competitive-data-science-final-project/data). To join the competition use [this link](https://www.kaggle.com/t/1ea93815dca248e99221df42ebde3540)."
   ]
  },
  {
   "cell_type": "markdown",
   "metadata": {},
   "source": [
    "## Grading"
   ]
  },
  {
   "cell_type": "markdown",
   "metadata": {},
   "source": [
    "We will create a grader instace below and use it to collect your answers. When function `submit_tag` is called, grader will store your answer *locally*. The answers will *not* be submited to the platform immediately so you can call `submit_tag` function as many times as you need. \n",
    "\n",
    "When you are ready to push your answers to the platform you should fill your credentials and run `submit` function in the <a href=\"#Authorization-&-Submission\">last paragraph</a>  of the assignment."
   ]
  },
  {
   "cell_type": "code",
   "execution_count": 3,
   "metadata": {
    "collapsed": true
   },
   "outputs": [],
   "source": [
    "grader = Grader()"
   ]
  },
  {
   "cell_type": "markdown",
   "metadata": {},
   "source": [
    "# Task"
   ]
  },
  {
   "cell_type": "markdown",
   "metadata": {},
   "source": [
    "Let's start with a simple task. \n",
    "\n",
    "<ol start=\"0\">\n",
    "  <li><b>Print the shape of the loaded dataframes and use [`df.head`](https://pandas.pydata.org/pandas-docs/stable/generated/pandas.DataFrame.head.html) function to print several rows. Examine the features you are given.</b></li>\n",
    "</ol>"
   ]
  },
  {
   "cell_type": "code",
   "execution_count": 4,
   "metadata": {
    "collapsed": false
   },
   "outputs": [
    {
     "name": "stdout",
     "output_type": "stream",
     "text": [
      "(2935849, 6)\n",
      "<bound method NDFrame.head of                date  date_block_num  shop_id  item_id  item_price  \\\n",
      "0        02.01.2013               0       59    22154      999.00   \n",
      "1        03.01.2013               0       25     2552      899.00   \n",
      "2        05.01.2013               0       25     2552      899.00   \n",
      "3        06.01.2013               0       25     2554     1709.05   \n",
      "4        15.01.2013               0       25     2555     1099.00   \n",
      "5        10.01.2013               0       25     2564      349.00   \n",
      "6        02.01.2013               0       25     2565      549.00   \n",
      "7        04.01.2013               0       25     2572      239.00   \n",
      "8        11.01.2013               0       25     2572      299.00   \n",
      "9        03.01.2013               0       25     2573      299.00   \n",
      "10       03.01.2013               0       25     2574      399.00   \n",
      "11       05.01.2013               0       25     2574      399.00   \n",
      "12       07.01.2013               0       25     2574      399.00   \n",
      "13       08.01.2013               0       25     2574      399.00   \n",
      "14       10.01.2013               0       25     2574      399.00   \n",
      "15       11.01.2013               0       25     2574      399.00   \n",
      "16       13.01.2013               0       25     2574      399.00   \n",
      "17       16.01.2013               0       25     2574      399.00   \n",
      "18       26.01.2013               0       25     2574      399.00   \n",
      "19       27.01.2013               0       25     2574      399.00   \n",
      "20       09.01.2013               0       25     2593      279.00   \n",
      "21       16.01.2013               0       25     2604      299.00   \n",
      "22       27.01.2013               0       25     2604      299.00   \n",
      "23       27.01.2013               0       25     2607      279.00   \n",
      "24       29.01.2013               0       25     2607      279.00   \n",
      "25       27.01.2013               0       25     2609     1699.00   \n",
      "26       06.01.2013               0       25     2548     1708.95   \n",
      "27       26.01.2013               0       25     2611      299.00   \n",
      "28       02.01.2013               0       25     2546      299.00   \n",
      "29       06.01.2013               0       25     2515     1649.00   \n",
      "...             ...             ...      ...      ...         ...   \n",
      "2935819  16.10.2015              33       25     7789     1799.00   \n",
      "2935820  22.10.2015              33       25     7790      799.00   \n",
      "2935821  22.10.2015              33       25     7791      899.50   \n",
      "2935822  17.10.2015              33       25     7632     2310.00   \n",
      "2935823  26.10.2015              33       25     7487      299.00   \n",
      "2935824  14.10.2015              33       25     7029      999.00   \n",
      "2935825  23.10.2015              33       25     7460      299.00   \n",
      "2935826  04.10.2015              33       25     7233      599.00   \n",
      "2935827  18.10.2015              33       25     7308      349.00   \n",
      "2935828  21.10.2015              33       25     7233      479.00   \n",
      "2935829  03.10.2015              33       25     7233      599.00   \n",
      "2935830  11.10.2015              33       25     7286      299.00   \n",
      "2935831  22.10.2015              33       25     7187      299.00   \n",
      "2935832  26.10.2015              33       25     7484      299.00   \n",
      "2935833  22.10.2015              33       25     7308      349.00   \n",
      "2935834  29.10.2015              33       25     7235      298.00   \n",
      "2935835  18.10.2015              33       25     7327      349.00   \n",
      "2935836  22.10.2015              33       25     7327      349.00   \n",
      "2935837  24.10.2015              33       25     7328      249.00   \n",
      "2935838  17.10.2015              33       25     7338      349.00   \n",
      "2935839  24.10.2015              33       25     7315      399.00   \n",
      "2935840  31.10.2015              33       25     7409      299.00   \n",
      "2935841  11.10.2015              33       25     7393      349.00   \n",
      "2935842  10.10.2015              33       25     7384      749.00   \n",
      "2935843  09.10.2015              33       25     7409      299.00   \n",
      "2935844  10.10.2015              33       25     7409      299.00   \n",
      "2935845  09.10.2015              33       25     7460      299.00   \n",
      "2935846  14.10.2015              33       25     7459      349.00   \n",
      "2935847  22.10.2015              33       25     7440      299.00   \n",
      "2935848  03.10.2015              33       25     7460      299.00   \n",
      "\n",
      "         item_cnt_day  \n",
      "0                 1.0  \n",
      "1                 1.0  \n",
      "2                -1.0  \n",
      "3                 1.0  \n",
      "4                 1.0  \n",
      "5                 1.0  \n",
      "6                 1.0  \n",
      "7                 1.0  \n",
      "8                 1.0  \n",
      "9                 3.0  \n",
      "10                2.0  \n",
      "11                1.0  \n",
      "12                1.0  \n",
      "13                2.0  \n",
      "14                1.0  \n",
      "15                2.0  \n",
      "16                1.0  \n",
      "17                1.0  \n",
      "18                1.0  \n",
      "19                1.0  \n",
      "20                1.0  \n",
      "21                1.0  \n",
      "22                1.0  \n",
      "23                1.0  \n",
      "24                1.0  \n",
      "25                1.0  \n",
      "26                1.0  \n",
      "27                1.0  \n",
      "28                1.0  \n",
      "29                1.0  \n",
      "...               ...  \n",
      "2935819           1.0  \n",
      "2935820           1.0  \n",
      "2935821           1.0  \n",
      "2935822           1.0  \n",
      "2935823           1.0  \n",
      "2935824           1.0  \n",
      "2935825           1.0  \n",
      "2935826           1.0  \n",
      "2935827           1.0  \n",
      "2935828           1.0  \n",
      "2935829           1.0  \n",
      "2935830           1.0  \n",
      "2935831           1.0  \n",
      "2935832           1.0  \n",
      "2935833           1.0  \n",
      "2935834           1.0  \n",
      "2935835           1.0  \n",
      "2935836           1.0  \n",
      "2935837           1.0  \n",
      "2935838           1.0  \n",
      "2935839           1.0  \n",
      "2935840           1.0  \n",
      "2935841           1.0  \n",
      "2935842           1.0  \n",
      "2935843           1.0  \n",
      "2935844           1.0  \n",
      "2935845           1.0  \n",
      "2935846           1.0  \n",
      "2935847           1.0  \n",
      "2935848           1.0  \n",
      "\n",
      "[2935849 rows x 6 columns]>\n",
      "(22170, 3)\n",
      "<bound method NDFrame.head of                                                item_name  item_id  \\\n",
      "0              ! ВО ВЛАСТИ НАВАЖДЕНИЯ (ПЛАСТ.)         D        0   \n",
      "1      !ABBYY FineReader 12 Professional Edition Full...        1   \n",
      "2          ***В ЛУЧАХ СЛАВЫ   (UNV)                    D        2   \n",
      "3        ***ГОЛУБАЯ ВОЛНА  (Univ)                      D        3   \n",
      "4            ***КОРОБКА (СТЕКЛО)                       D        4   \n",
      "5      ***НОВЫЕ АМЕРИКАНСКИЕ ГРАФФИТИ  (UNI)         ...        5   \n",
      "6               ***УДАР ПО ВОРОТАМ (UNI)               D        6   \n",
      "7             ***УДАР ПО ВОРОТАМ-2 (UNI)               D        7   \n",
      "8               ***ЧАЙ С МУССОЛИНИ                     D        8   \n",
      "9          ***ШУГАРЛЭНДСКИЙ ЭКСПРЕСС (UNI)             D        9   \n",
      "10             *ЗА ГРАНЬЮ СМЕРТИ                       D       10   \n",
      "11             *ЛИНИЯ СМЕРТИ                           D       11   \n",
      "12                       *МИХЕЙ И ДЖУМАНДЖИ  Сука любовь       12   \n",
      "13             *СПАСАЯ ЭМИЛИ                           D       13   \n",
      "14             *ЧОКНУТЫЙ ПРОФЕССОР /МАГИЯ/             D       14   \n",
      "15                //АДРЕНАЛИН: ОДИН ПРОТИВ ВСЕХ (Регион)       15   \n",
      "16                            //МОНГОЛ С.Бодров (Регион)       16   \n",
      "17                       //НЕ ОСТАВЛЯЮЩИЙ СЛЕДА (Регион)       17   \n",
      "18             /БОМБА ДЛЯ НЕВЕСТЫ /2DVD/               D       18   \n",
      "19                             /ЗОЛОТАЯ КОЛЛЕКЦИЯ м/ф-72       19   \n",
      "20                                    /ОДНАЖДЫ В КИТАЕ-2       20   \n",
      "21                                       /ПОСЛЕДНИЙ ШАНС       21   \n",
      "22                                  /ПРОКЛЯТЬЕ ЭЛЬ ЧАРРО       22   \n",
      "23                                     /СЕВЕР И ЮГ /Ч.2/       23   \n",
      "24                                  /СМЕРТЕЛЬНЫЙ РАСКЛАД       24   \n",
      "25                                           /ТЫ  - ТРУП       25   \n",
      "26                      /УМНОЖАЮЩИЙ ПЕЧАЛЬ т.2 (сер.3-4)       26   \n",
      "27                     007 Legends [PS3, русская версия]       27   \n",
      "28               007 Legends [PС, Jewel, русская версия]       28   \n",
      "29                007 Legends [Xbox 360, русская версия]       29   \n",
      "...                                                  ...      ...   \n",
      "22140                                      Я, РОБОТ (BD)    22140   \n",
      "22141                                  Я, СНОВА Я И МАМА    22141   \n",
      "22142                             Я, СНОВА Я И МАМА (BD)    22142   \n",
      "22143                                    Я, ФРАНКЕНШТЕЙН    22143   \n",
      "22144                            Я, ФРАНКЕНШТЕЙН (3D BD)    22144   \n",
      "22145                               Я, ФРАНКЕНШТЕЙН (BD)    22145   \n",
      "22146                                  Я-ЛЕГЕНДА WB (BD)    22146   \n",
      "22147                              Я-ЛЕГЕНДА WB (регион)    22147   \n",
      "22148                                    Я-ЧЕТВЕРТЫЙ  WD    22148   \n",
      "22149                           Я-ЧЕТВЕРТЫЙ  WD (регион)    22149   \n",
      "22150                                   Я-ЧЕТВЕРТЫЙ (BD)    22150   \n",
      "22151                                     ЯВЛЕНИЕ (2012)    22151   \n",
      "22152                            ЯВЛЕНИЕ (2012) (регион)    22152   \n",
      "22153                                       ЯВЛЕНИЕ (BD)    22153   \n",
      "22154                                  ЯВЛЕНИЕ 2012 (BD)    22154   \n",
      "22155         ЯДЫ, ИЛИ ВСЕМИРНАЯ ИСТОРИЯ ОТРАВЛЕНИЙ (BD)    22155   \n",
      "22156     ЯДЫ, ИЛИ ВСЕМИРНАЯ ИСТОРИЯ ОТРАВЛЕНИЙ (регион)    22156   \n",
      "22157                                            ЯЛТА 45    22157   \n",
      "22158                                          ЯМА (rem)    22158   \n",
      "22159                                          ЯНКОВСКИЙ    22159   \n",
      "22160                         ЯРМАРКА ТЩЕСЛАВИЯ (Регион)    22160   \n",
      "22161                   ЯРОСЛАВ. ТЫСЯЧУ ЛЕТ НАЗАД э (BD)    22161   \n",
      "22162                                             ЯРОСТЬ    22162   \n",
      "22163                                   ЯРОСТЬ ( регион)    22163   \n",
      "22164                                        ЯРОСТЬ (BD)    22164   \n",
      "22165             Ядерный титбит 2 [PC, Цифровая версия]    22165   \n",
      "22166    Язык запросов 1С:Предприятия  [Цифровая версия]    22166   \n",
      "22167  Язык запросов 1С:Предприятия 8 (+CD). Хрустале...    22167   \n",
      "22168                                Яйцо для Little Inu    22168   \n",
      "22169                      Яйцо дракона (Игра престолов)    22169   \n",
      "\n",
      "       item_category_id  \n",
      "0                    40  \n",
      "1                    76  \n",
      "2                    40  \n",
      "3                    40  \n",
      "4                    40  \n",
      "5                    40  \n",
      "6                    40  \n",
      "7                    40  \n",
      "8                    40  \n",
      "9                    40  \n",
      "10                   40  \n",
      "11                   40  \n",
      "12                   55  \n",
      "13                   40  \n",
      "14                   40  \n",
      "15                   40  \n",
      "16                   40  \n",
      "17                   40  \n",
      "18                   40  \n",
      "19                   40  \n",
      "20                   40  \n",
      "21                   40  \n",
      "22                   40  \n",
      "23                   40  \n",
      "24                   40  \n",
      "25                   40  \n",
      "26                   40  \n",
      "27                   19  \n",
      "28                   30  \n",
      "29                   23  \n",
      "...                 ...  \n",
      "22140                37  \n",
      "22141                40  \n",
      "22142                37  \n",
      "22143                40  \n",
      "22144                38  \n",
      "22145                37  \n",
      "22146                37  \n",
      "22147                40  \n",
      "22148                40  \n",
      "22149                40  \n",
      "22150                37  \n",
      "22151                40  \n",
      "22152                40  \n",
      "22153                37  \n",
      "22154                37  \n",
      "22155                37  \n",
      "22156                40  \n",
      "22157                40  \n",
      "22158                40  \n",
      "22159                40  \n",
      "22160                40  \n",
      "22161                37  \n",
      "22162                40  \n",
      "22163                40  \n",
      "22164                37  \n",
      "22165                31  \n",
      "22166                54  \n",
      "22167                49  \n",
      "22168                62  \n",
      "22169                69  \n",
      "\n",
      "[22170 rows x 3 columns]>\n",
      "(84, 2)\n",
      "<bound method NDFrame.head of                           item_category_name  item_category_id\n",
      "0                    PC - Гарнитуры/Наушники                 0\n",
      "1                           Аксессуары - PS2                 1\n",
      "2                           Аксессуары - PS3                 2\n",
      "3                           Аксессуары - PS4                 3\n",
      "4                           Аксессуары - PSP                 4\n",
      "5                        Аксессуары - PSVita                 5\n",
      "6                      Аксессуары - XBOX 360                 6\n",
      "7                      Аксессуары - XBOX ONE                 7\n",
      "8                             Билеты (Цифра)                 8\n",
      "9                            Доставка товара                 9\n",
      "10                     Игровые консоли - PS2                10\n",
      "11                     Игровые консоли - PS3                11\n",
      "12                     Игровые консоли - PS4                12\n",
      "13                     Игровые консоли - PSP                13\n",
      "14                  Игровые консоли - PSVita                14\n",
      "15                Игровые консоли - XBOX 360                15\n",
      "16                Игровые консоли - XBOX ONE                16\n",
      "17                  Игровые консоли - Прочие                17\n",
      "18                                Игры - PS2                18\n",
      "19                                Игры - PS3                19\n",
      "20                                Игры - PS4                20\n",
      "21                                Игры - PSP                21\n",
      "22                             Игры - PSVita                22\n",
      "23                           Игры - XBOX 360                23\n",
      "24                           Игры - XBOX ONE                24\n",
      "25                 Игры - Аксессуары для игр                25\n",
      "26                      Игры Android - Цифра                26\n",
      "27                          Игры MAC - Цифра                27\n",
      "28          Игры PC - Дополнительные издания                28\n",
      "29           Игры PC - Коллекционные издания                29\n",
      "..                                       ...               ...\n",
      "54                             Книги - Цифра                54\n",
      "55       Музыка - CD локального производства                55\n",
      "56       Музыка - CD фирменного производства                56\n",
      "57                              Музыка - MP3                57\n",
      "58                            Музыка - Винил                58\n",
      "59                Музыка - Музыкальное видео                59\n",
      "60               Музыка - Подарочные издания                60\n",
      "61                      Подарки - Атрибутика                61\n",
      "62          Подарки - Гаджеты, роботы, спорт                62\n",
      "63                  Подарки - Мягкие игрушки                63\n",
      "64                 Подарки - Настольные игры                64\n",
      "65    Подарки - Настольные игры (компактные)                65\n",
      "66              Подарки - Открытки, наклейки                66\n",
      "67                        Подарки - Развитие                67\n",
      "68             Подарки - Сертификаты, услуги                68\n",
      "69                        Подарки - Сувениры                69\n",
      "70            Подарки - Сувениры (в навеску)                70\n",
      "71  Подарки - Сумки, Альбомы, Коврики д/мыши                71\n",
      "72                         Подарки - Фигурки                72\n",
      "73              Программы - 1С:Предприятие 8                73\n",
      "74                   Программы - MAC (Цифра)                74\n",
      "75              Программы - Для дома и офиса                75\n",
      "76      Программы - Для дома и офиса (Цифра)                76\n",
      "77                     Программы - Обучающие                77\n",
      "78             Программы - Обучающие (Цифра)                78\n",
      "79                                 Служебные                79\n",
      "80                        Служебные - Билеты                80\n",
      "81                   Чистые носители (шпиль)                81\n",
      "82                 Чистые носители (штучные)                82\n",
      "83                          Элементы питания                83\n",
      "\n",
      "[84 rows x 2 columns]>\n",
      "(60, 2)\n",
      "<bound method NDFrame.head of                                           shop_name  shop_id\n",
      "0                     !Якутск Орджоникидзе, 56 фран        0\n",
      "1                     !Якутск ТЦ \"Центральный\" фран        1\n",
      "2                                  Адыгея ТЦ \"Мега\"        2\n",
      "3                    Балашиха ТРК \"Октябрь-Киномир\"        3\n",
      "4                          Волжский ТЦ \"Волга Молл\"        4\n",
      "5                            Вологда ТРЦ \"Мармелад\"        5\n",
      "6                        Воронеж (Плехановская, 13)        6\n",
      "7                            Воронеж ТРЦ \"Максимир\"        7\n",
      "8                      Воронеж ТРЦ Сити-Парк \"Град\"        8\n",
      "9                                 Выездная Торговля        9\n",
      "10                       Жуковский ул. Чкалова 39м?       10\n",
      "11                       Жуковский ул. Чкалова 39м²       11\n",
      "12                              Интернет-магазин ЧС       12\n",
      "13                              Казань ТЦ \"Бехетле\"       13\n",
      "14                          Казань ТЦ \"ПаркХаус\" II       14\n",
      "15                             Калуга ТРЦ \"XXI век\"       15\n",
      "16                                 Коломна ТЦ \"Рио\"       16\n",
      "17                    Красноярск ТЦ \"Взлетка Плаза\"       17\n",
      "18                             Красноярск ТЦ \"Июнь\"       18\n",
      "19                            Курск ТЦ \"Пушкинский\"       19\n",
      "20                              Москва \"Распродажа\"       20\n",
      "21                           Москва МТРЦ \"Афи Молл\"       21\n",
      "22                               Москва Магазин С21       22\n",
      "23                 Москва ТК \"Буденовский\" (пав.А2)       23\n",
      "24                 Москва ТК \"Буденовский\" (пав.К7)       24\n",
      "25                              Москва ТРК \"Атриум\"       25\n",
      "26                      Москва ТЦ \"Ареал\" (Беляево)       26\n",
      "27                   Москва ТЦ \"МЕГА Белая Дача II\"       27\n",
      "28                  Москва ТЦ \"МЕГА Теплый Стан\" II       28\n",
      "29               Москва ТЦ \"Новый век\" (Новокосино)       29\n",
      "30                           Москва ТЦ \"Перловский\"       30\n",
      "31                          Москва ТЦ \"Семеновский\"       31\n",
      "32                       Москва ТЦ \"Серебряный Дом\"       32\n",
      "33                                Мытищи ТРК \"XL-3\"       33\n",
      "34                             Н.Новгород ТРЦ \"РИО\"       34\n",
      "35                      Н.Новгород ТРЦ \"Фантастика\"       35\n",
      "36            Новосибирск ТРЦ \"Галерея Новосибирск\"       36\n",
      "37                            Новосибирск ТЦ \"Мега\"       37\n",
      "38                                   Омск ТЦ \"Мега\"       38\n",
      "39            РостовНаДону ТРК \"Мегацентр Горизонт\"       39\n",
      "40  РостовНаДону ТРК \"Мегацентр Горизонт\" Островной       40\n",
      "41                           РостовНаДону ТЦ \"Мега\"       41\n",
      "42                           СПб ТК \"Невский Центр\"       42\n",
      "43                                  СПб ТК \"Сенная\"       43\n",
      "44                              Самара ТЦ \"Мелодия\"       44\n",
      "45                             Самара ТЦ \"ПаркХаус\"       45\n",
      "46                            Сергиев Посад ТЦ \"7Я\"       46\n",
      "47                           Сургут ТРЦ \"Сити Молл\"       47\n",
      "48                     Томск ТРЦ \"Изумрудный Город\"       48\n",
      "49                            Тюмень ТРЦ \"Кристалл\"       49\n",
      "50                               Тюмень ТЦ \"Гудвин\"       50\n",
      "51                        Тюмень ТЦ \"Зеленый Берег\"       51\n",
      "52                             Уфа ТК \"Центральный\"       52\n",
      "53                                 Уфа ТЦ \"Семья\" 2       53\n",
      "54                                  Химки ТЦ \"Мега\"       54\n",
      "55                         Цифровой склад 1С-Онлайн       55\n",
      "56                             Чехов ТРЦ \"Карнавал\"       56\n",
      "57                          Якутск Орджоникидзе, 56       57\n",
      "58                          Якутск ТЦ \"Центральный\"       58\n",
      "59                           Ярославль ТЦ \"Альтаир\"       59>\n"
     ]
    }
   ],
   "source": [
    "# YOUR CODE GOES HERE\n",
    "print(transactions.shape)\n",
    "print(transactions.head)\n",
    "\n",
    "print(items.shape)\n",
    "print(items.head)\n",
    "\n",
    "print(item_categories.shape)\n",
    "print(item_categories.head)\n",
    "\n",
    "print(shops.shape)\n",
    "print(shops.head)"
   ]
  },
  {
   "cell_type": "markdown",
   "metadata": {},
   "source": [
    "Now use your `pandas` skills to get answers for the following questions. \n",
    "The first question is:\n",
    "\n",
    "1. ** What was the maximum total revenue among all the shops in September, 2014?** \n",
    "\n",
    "\n",
    "* Hereinafter *revenue* refers to total sales minus value of goods returned.\n",
    "\n",
    "*Hints:*\n",
    "\n",
    "* Sometimes items are returned, find such examples in the dataset. \n",
    "* It is handy to split `date` field into [`day`, `month`, `year`] components and use `df.year == 14` and `df.month == 9` in order to select target subset of dates.\n",
    "* You may work with `date` feature as with srings, or you may first convert it to `pd.datetime` type with `pd.to_datetime` function, but do not forget to set correct `format` argument."
   ]
  },
  {
   "cell_type": "code",
   "execution_count": 82,
   "metadata": {
    "collapsed": false
   },
   "outputs": [
    {
     "name": "stdout",
     "output_type": "stream",
     "text": [
      "Current answer for task max_revenue is: 7982852.2\n"
     ]
    },
    {
     "name": "stderr",
     "output_type": "stream",
     "text": [
      "C:\\Users\\kirill.romanov\\Anaconda3\\envs\\aind\\lib\\site-packages\\ipykernel\\__main__.py:6: SettingWithCopyWarning: \n",
      "A value is trying to be set on a copy of a slice from a DataFrame.\n",
      "Try using .loc[row_indexer,col_indexer] = value instead\n",
      "\n",
      "See the caveats in the documentation: http://pandas.pydata.org/pandas-docs/stable/indexing.html#indexing-view-versus-copy\n"
     ]
    }
   ],
   "source": [
    "# YOUR CODE GOES HERE\n",
    "## instead of tedious manipulations with data colum we could use date_block_num feature. value 20 corresponds of september 2014\n",
    "transaction_small = transactions[transactions.date_block_num ==20]\n",
    "\n",
    "#calculate revenue for each transaction\n",
    "transaction_small['revenue'] = transaction_small['item_cnt_day']*transaction_small['item_price']\n",
    "\n",
    "#now we can calculate max value with chained operations of grouping, summing and finding max value\n",
    "max_revenue = transaction_small.groupby('shop_id')['revenue'].sum().max()\n",
    "grader.submit_tag('max_revenue', max_revenue)"
   ]
  },
  {
   "cell_type": "markdown",
   "metadata": {},
   "source": [
    "Great! Let's move on and answer another question:\n",
    "\n",
    "<ol start=\"2\">\n",
    "  <li><b>What item category generated the highest revenue in summer 2014?</b></li>\n",
    "</ol>\n",
    "\n",
    "* Submit `id` of the category found.\n",
    "    \n",
    "* Here we call \"summer\" the period from June to August.\n",
    "\n",
    "*Hints:*\n",
    "\n",
    "* Note, that for an object `x` of type `pd.Series`: `x.argmax()` returns **index** of the maximum element. `pd.Series` can have non-trivial index (not `[1, 2, 3, ... ]`)."
   ]
  },
  {
   "cell_type": "code",
   "execution_count": 144,
   "metadata": {
    "collapsed": false
   },
   "outputs": [
    {
     "name": "stdout",
     "output_type": "stream",
     "text": [
      "item_category_id\n",
      "20    32157302.43\n",
      "Name: revenue, dtype: float64\n"
     ]
    },
    {
     "name": "stderr",
     "output_type": "stream",
     "text": [
      "C:\\Users\\kirill.romanov\\Anaconda3\\envs\\aind\\lib\\site-packages\\ipykernel\\__main__.py:6: SettingWithCopyWarning: \n",
      "A value is trying to be set on a copy of a slice from a DataFrame.\n",
      "Try using .loc[row_indexer,col_indexer] = value instead\n",
      "\n",
      "See the caveats in the documentation: http://pandas.pydata.org/pandas-docs/stable/indexing.html#indexing-view-versus-copy\n"
     ]
    }
   ],
   "source": [
    "# YOUR CODE GOES HERE\n",
    "#create small dataframe (df) based on filtered big df. Select only jun-aug 2014 period\n",
    "transaction_small_jun_aug = transactions[(transactions.date_block_num >= 17)&(transactions.date_block_num <= 19)]\n",
    "\n",
    "#calculate revenue for each transaction\n",
    "transaction_small_jun_aug['revenue'] = transaction_small_jun_aug['item_cnt_day']*transaction_small_jun_aug['item_price']\n",
    "joined_df = pd.merge(transaction_small_jun_aug, items, on = ['item_id'], how='left')\n",
    "\n",
    "category_id_with_max_revenue = joined_df.groupby('item_category_id')['revenue'].sum().argmax()\n",
    "tt = category_id_with_max_revenue[:10][:1]\n",
    "print(category_id_with_max_revenue.nlargest(1))"
   ]
  },
  {
   "cell_type": "code",
   "execution_count": 146,
   "metadata": {
    "collapsed": false
   },
   "outputs": [
    {
     "name": "stdout",
     "output_type": "stream",
     "text": [
      "Current answer for task category_id_with_max_revenue is: 20\n"
     ]
    },
    {
     "name": "stderr",
     "output_type": "stream",
     "text": [
      "C:\\Users\\kirill.romanov\\Anaconda3\\envs\\aind\\lib\\site-packages\\ipykernel\\__main__.py:6: SettingWithCopyWarning: \n",
      "A value is trying to be set on a copy of a slice from a DataFrame.\n",
      "Try using .loc[row_indexer,col_indexer] = value instead\n",
      "\n",
      "See the caveats in the documentation: http://pandas.pydata.org/pandas-docs/stable/indexing.html#indexing-view-versus-copy\n"
     ]
    }
   ],
   "source": [
    "# YOUR CODE GOES HERE\n",
    "#create small dataframe (df) based on filtered big df. Select only jun-aug 2014 period\n",
    "transaction_small_jun_aug = transactions[(transactions.date_block_num >= 17)&(transactions.date_block_num <= 19)]\n",
    "\n",
    "#calculate revenue for each transaction\n",
    "transaction_small_jun_aug['revenue'] = transaction_small_jun_aug['item_cnt_day']*transaction_small_jun_aug['item_price']\n",
    "joined_df = pd.merge(transaction_small_jun_aug, items, on = ['item_id'], how='left')\n",
    "\n",
    "category_id_with_max_revenue = joined_df.groupby('item_category_id')['revenue'].sum().argmax()\n",
    "grader.submit_tag('category_id_with_max_revenue', category_id_with_max_revenue)"
   ]
  },
  {
   "cell_type": "markdown",
   "metadata": {},
   "source": [
    "<ol start=\"3\">\n",
    "  <li><b>How many items are there, such that their price stays constant (to the best of our knowledge) during the whole period of time?</b></li>\n",
    "</ol>\n",
    "\n",
    "* Let's assume, that the items are returned for the same price as they had been sold."
   ]
  },
  {
   "cell_type": "code",
   "execution_count": 172,
   "metadata": {
    "collapsed": false
   },
   "outputs": [
    {
     "name": "stdout",
     "output_type": "stream",
     "text": [
      "Current answer for task num_items_constant_price is: 5926\n"
     ]
    }
   ],
   "source": [
    "# YOUR CODE GOES HERE\n",
    "small = transactions[['item_id', 'item_price']]\n",
    "\n",
    "all_combos_item_price = small.groupby(['item_id', 'item_price']).size().reset_index(name='counts')\n",
    "num_changes_price_by_item = all_combos_item_price.groupby(['item_id']).size().reset_index(name='counts')\n",
    "num_items_constant_price = num_changes_price_by_item[num_changes_price_by_item.counts==1].shape[:1][0]\n",
    "\n",
    "grader.submit_tag('num_items_constant_price', num_items_constant_price)"
   ]
  },
  {
   "cell_type": "markdown",
   "metadata": {},
   "source": [
    "Remember, the data can sometimes be noisy."
   ]
  },
  {
   "cell_type": "markdown",
   "metadata": {},
   "source": [
    "<ol start=\"4\">\n",
    "  <li><b>What was the variance of the number of sold items per day sequence for the shop with `shop_id = 25` in December, 2014?</b></li>\n",
    "</ol>\n",
    "\n",
    "* Fill `total_num_items_sold` and `days` arrays, and plot the sequence with the code below.\n",
    "* Then compute variance. Remember, there can be differences in how you normalize variance (biased or unbiased estimate, see [link](https://math.stackexchange.com/questions/496627/the-difference-between-unbiased-biased-estimator-variance)). Compute ***unbiased*** estimate (use the right value for `ddof` argument in `pd.var` or `np.var`)."
   ]
  },
  {
   "cell_type": "code",
   "execution_count": 194,
   "metadata": {
    "collapsed": false
   },
   "outputs": [
    {
     "name": "stderr",
     "output_type": "stream",
     "text": [
      "C:\\Users\\kirill.romanov\\Anaconda3\\envs\\aind\\lib\\site-packages\\ipykernel\\__main__.py:3: SettingWithCopyWarning: \n",
      "A value is trying to be set on a copy of a slice from a DataFrame.\n",
      "Try using .loc[row_indexer,col_indexer] = value instead\n",
      "\n",
      "See the caveats in the documentation: http://pandas.pydata.org/pandas-docs/stable/indexing.html#indexing-view-versus-copy\n",
      "  app.launch_new_instance()\n"
     ]
    },
    {
     "data": {
      "image/png": "[encoded data removed]",
      "text/plain": [
       "<matplotlib.figure.Figure at 0x2766f46c860>"
      ]
     },
     "metadata": {},
     "output_type": "display_data"
    },
    {
     "name": "stdout",
     "output_type": "stream",
     "text": [
      "Current answer for task total_num_items_sold_var is: 117167.702299\n"
     ]
    }
   ],
   "source": [
    "shop_id = 25\n",
    "shop_transaction_dec_2014 = transactions[(transactions.date_block_num ==23)&(transactions.shop_id ==shop_id)]\n",
    "shop_transaction_dec_2014['day'] = shop_transaction_dec_2014['date'].map(lambda x: pd.to_datetime(x, dayfirst = True).day)\n",
    "# print(shop_transaction_dec_2014[:2])\n",
    "\n",
    "day_items_data = shop_transaction_dec_2014[['day', 'item_cnt_day']]\n",
    "sumed_sales =  day_items_data.groupby('day').sum().reset_index()\n",
    "\n",
    "total_num_items_sold = sumed_sales['item_cnt_day'].values\n",
    "days = sumed_sales['day'].values\n",
    "\n",
    "# Plot it\n",
    "plt.plot(days, total_num_items_sold)\n",
    "plt.ylabel('Num items')\n",
    "plt.xlabel('Day')\n",
    "plt.title(\"Daily revenue for shop_id = 25\")\n",
    "plt.show()\n",
    "\n",
    "total_num_items_sold_var = sumed_sales['item_cnt_day'].var()\n",
    "grader.submit_tag('total_num_items_sold_var', total_num_items_sold_var)"
   ]
  },
  {
   "cell_type": "markdown",
   "metadata": {},
   "source": [
    "## Authorization & Submission\n",
    "To submit assignment to Cousera platform, please, enter your e-mail and token into the variables below. You can generate token on the programming assignment page. *Note:* Token expires 30 minutes after generation."
   ]
  },
  {
   "cell_type": "code",
   "execution_count": 195,
   "metadata": {
    "collapsed": false
   },
   "outputs": [
    {
     "name": "stdout",
     "output_type": "stream",
     "text": [
      "You want to submit these numbers:\n",
      "Task max_revenue: 7982852.2\n",
      "Task category_id_with_max_revenue: 20\n",
      "Task num_items_constant_price: 5926\n",
      "Task total_num_items_sold_var: 117167.702299\n"
     ]
    }
   ],
   "source": [
    "STUDENT_EMAIL = 'kirill.v.romanov@gmail.com'\n",
    "STUDENT_TOKEN = 'lka5FezQMrkYEY8g'\n",
    "grader.status()"
   ]
  },
  {
   "cell_type": "code",
   "execution_count": 196,
   "metadata": {
    "collapsed": false
   },
   "outputs": [
    {
     "name": "stdout",
     "output_type": "stream",
     "text": [
      "Submitted to Coursera platform. See results on assignment page!\n"
     ]
    }
   ],
   "source": [
    "grader.submit(STUDENT_EMAIL, STUDENT_TOKEN)"
   ]
  },
  {
   "cell_type": "markdown",
   "metadata": {},
   "source": [
    "Well done! :)"
   ]
  }
 ],
 "metadata": {
  "hw_version": "1.0.0",
  "kernelspec": {
   "display_name": "Python [aind]",
   "language": "python",
   "name": "Python [aind]"
  },
  "language_info": {
   "codemirror_mode": {
    "name": "ipython",
    "version": 3
   },
   "file_extension": ".py",
   "mimetype": "text/x-python",
   "name": "python",
   "nbconvert_exporter": "python",
   "pygments_lexer": "ipython3",
   "version": "3.5.3"
  }
 },
 "nbformat": 4,
 "nbformat_minor": 2
}
